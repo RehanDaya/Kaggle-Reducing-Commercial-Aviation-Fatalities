{
 "cells": [
  {
   "cell_type": "markdown",
   "metadata": {},
   "source": [
    "# Reducing Commercial Aviation Fatalities\n",
    "##### by: Rehan Daya, Troy Walton, Yiwei Zhou, Emmanuella Eguche"
   ]
  },
  {
   "cell_type": "code",
   "execution_count": 1,
   "metadata": {},
   "outputs": [
    {
     "name": "stdout",
     "output_type": "stream",
     "text": [
      "Populating the interactive namespace from numpy and matplotlib\n"
     ]
    }
   ],
   "source": [
    "from pandas import Series, DataFrame\n",
    "import pandas as pd\n",
    "import seaborn as sns\n",
    "import statsmodels.api as sm\n",
    "from patsy import dmatrices\n",
    "%pylab inline"
   ]
  },
  {
   "cell_type": "markdown",
   "metadata": {},
   "source": [
    "## Assumption on Data Gathered\n",
    "\n",
    "##### A= Train is collected in a non-flight environment.\n",
    "##### B= Test is collected in a flight simulator\n",
    "\n",
    "##### The goal is to predict the probability of each state for each time in the test set. We assume that the non-flight environment is equivalent to a flight simulator. Given the purpose of this experiement is likely to see the validity of the predictions in real life, and not only the flight simulator, we must also assume that A and B are equal to a real-flight environment (C).\n",
    "\n",
    "##### As such A=B=C."
   ]
  },
  {
   "cell_type": "code",
   "execution_count": 2,
   "metadata": {},
   "outputs": [],
   "source": [
    "test = pd.read_csv('./test.csv') #This data is created from pilots in a flight simulator\n",
    "train = pd.read_csv('./train.csv') #This data is created from pilots not in a flight simulator"
   ]
  },
  {
   "cell_type": "code",
   "execution_count": 3,
   "metadata": {},
   "outputs": [
    {
     "data": {
      "text/html": [
       "<div>\n",
       "<style scoped>\n",
       "    .dataframe tbody tr th:only-of-type {\n",
       "        vertical-align: middle;\n",
       "    }\n",
       "\n",
       "    .dataframe tbody tr th {\n",
       "        vertical-align: top;\n",
       "    }\n",
       "\n",
       "    .dataframe thead th {\n",
       "        text-align: right;\n",
       "    }\n",
       "</style>\n",
       "<table border=\"1\" class=\"dataframe\">\n",
       "  <thead>\n",
       "    <tr style=\"text-align: right;\">\n",
       "      <th></th>\n",
       "      <th>crew</th>\n",
       "      <th>experiment</th>\n",
       "      <th>time</th>\n",
       "      <th>seat</th>\n",
       "      <th>eeg_fp1</th>\n",
       "      <th>eeg_f7</th>\n",
       "      <th>eeg_f8</th>\n",
       "      <th>eeg_t4</th>\n",
       "      <th>eeg_t6</th>\n",
       "      <th>eeg_t5</th>\n",
       "      <th>...</th>\n",
       "      <th>eeg_c4</th>\n",
       "      <th>eeg_p4</th>\n",
       "      <th>eeg_poz</th>\n",
       "      <th>eeg_c3</th>\n",
       "      <th>eeg_cz</th>\n",
       "      <th>eeg_o2</th>\n",
       "      <th>ecg</th>\n",
       "      <th>r</th>\n",
       "      <th>gsr</th>\n",
       "      <th>event</th>\n",
       "    </tr>\n",
       "  </thead>\n",
       "  <tbody>\n",
       "    <tr>\n",
       "      <th>0</th>\n",
       "      <td>1</td>\n",
       "      <td>CA</td>\n",
       "      <td>0.011719</td>\n",
       "      <td>1</td>\n",
       "      <td>-5.28545</td>\n",
       "      <td>26.775801</td>\n",
       "      <td>-9.527310</td>\n",
       "      <td>-12.793200</td>\n",
       "      <td>16.717800</td>\n",
       "      <td>33.737499</td>\n",
       "      <td>...</td>\n",
       "      <td>37.368999</td>\n",
       "      <td>17.437599</td>\n",
       "      <td>19.201900</td>\n",
       "      <td>20.5968</td>\n",
       "      <td>-3.95115</td>\n",
       "      <td>14.507600</td>\n",
       "      <td>-4520.0</td>\n",
       "      <td>817.705994</td>\n",
       "      <td>388.829987</td>\n",
       "      <td>A</td>\n",
       "    </tr>\n",
       "    <tr>\n",
       "      <th>1</th>\n",
       "      <td>1</td>\n",
       "      <td>CA</td>\n",
       "      <td>0.015625</td>\n",
       "      <td>1</td>\n",
       "      <td>-2.42842</td>\n",
       "      <td>28.430901</td>\n",
       "      <td>-9.323510</td>\n",
       "      <td>-3.757230</td>\n",
       "      <td>15.969300</td>\n",
       "      <td>30.443600</td>\n",
       "      <td>...</td>\n",
       "      <td>31.170799</td>\n",
       "      <td>19.399700</td>\n",
       "      <td>19.689501</td>\n",
       "      <td>21.3547</td>\n",
       "      <td>1.33212</td>\n",
       "      <td>17.750200</td>\n",
       "      <td>-4520.0</td>\n",
       "      <td>817.705994</td>\n",
       "      <td>388.829987</td>\n",
       "      <td>A</td>\n",
       "    </tr>\n",
       "    <tr>\n",
       "      <th>2</th>\n",
       "      <td>1</td>\n",
       "      <td>CA</td>\n",
       "      <td>0.019531</td>\n",
       "      <td>1</td>\n",
       "      <td>10.67150</td>\n",
       "      <td>30.420200</td>\n",
       "      <td>15.350700</td>\n",
       "      <td>24.724001</td>\n",
       "      <td>16.143101</td>\n",
       "      <td>32.142799</td>\n",
       "      <td>...</td>\n",
       "      <td>-12.012600</td>\n",
       "      <td>19.396299</td>\n",
       "      <td>23.171700</td>\n",
       "      <td>22.4076</td>\n",
       "      <td>1.53786</td>\n",
       "      <td>22.247000</td>\n",
       "      <td>-4520.0</td>\n",
       "      <td>817.705994</td>\n",
       "      <td>388.829987</td>\n",
       "      <td>A</td>\n",
       "    </tr>\n",
       "    <tr>\n",
       "      <th>3</th>\n",
       "      <td>1</td>\n",
       "      <td>CA</td>\n",
       "      <td>0.023438</td>\n",
       "      <td>1</td>\n",
       "      <td>11.45250</td>\n",
       "      <td>25.609800</td>\n",
       "      <td>2.433080</td>\n",
       "      <td>12.412500</td>\n",
       "      <td>20.533300</td>\n",
       "      <td>31.494101</td>\n",
       "      <td>...</td>\n",
       "      <td>18.574100</td>\n",
       "      <td>23.156401</td>\n",
       "      <td>22.641199</td>\n",
       "      <td>19.3367</td>\n",
       "      <td>2.54492</td>\n",
       "      <td>18.998600</td>\n",
       "      <td>-4520.0</td>\n",
       "      <td>817.705994</td>\n",
       "      <td>388.829987</td>\n",
       "      <td>A</td>\n",
       "    </tr>\n",
       "    <tr>\n",
       "      <th>4</th>\n",
       "      <td>1</td>\n",
       "      <td>CA</td>\n",
       "      <td>0.027344</td>\n",
       "      <td>1</td>\n",
       "      <td>7.28321</td>\n",
       "      <td>25.942600</td>\n",
       "      <td>0.113564</td>\n",
       "      <td>5.748000</td>\n",
       "      <td>19.833599</td>\n",
       "      <td>28.753599</td>\n",
       "      <td>...</td>\n",
       "      <td>6.555440</td>\n",
       "      <td>22.754700</td>\n",
       "      <td>22.670300</td>\n",
       "      <td>20.2932</td>\n",
       "      <td>1.69962</td>\n",
       "      <td>22.812799</td>\n",
       "      <td>-4520.0</td>\n",
       "      <td>817.705994</td>\n",
       "      <td>388.829987</td>\n",
       "      <td>A</td>\n",
       "    </tr>\n",
       "  </tbody>\n",
       "</table>\n",
       "<p>5 rows × 28 columns</p>\n",
       "</div>"
      ],
      "text/plain": [
       "   crew experiment      time  seat   eeg_fp1     eeg_f7     eeg_f8     eeg_t4  \\\n",
       "0     1         CA  0.011719     1  -5.28545  26.775801  -9.527310 -12.793200   \n",
       "1     1         CA  0.015625     1  -2.42842  28.430901  -9.323510  -3.757230   \n",
       "2     1         CA  0.019531     1  10.67150  30.420200  15.350700  24.724001   \n",
       "3     1         CA  0.023438     1  11.45250  25.609800   2.433080  12.412500   \n",
       "4     1         CA  0.027344     1   7.28321  25.942600   0.113564   5.748000   \n",
       "\n",
       "      eeg_t6     eeg_t5  ...     eeg_c4     eeg_p4    eeg_poz   eeg_c3  \\\n",
       "0  16.717800  33.737499  ...  37.368999  17.437599  19.201900  20.5968   \n",
       "1  15.969300  30.443600  ...  31.170799  19.399700  19.689501  21.3547   \n",
       "2  16.143101  32.142799  ... -12.012600  19.396299  23.171700  22.4076   \n",
       "3  20.533300  31.494101  ...  18.574100  23.156401  22.641199  19.3367   \n",
       "4  19.833599  28.753599  ...   6.555440  22.754700  22.670300  20.2932   \n",
       "\n",
       "    eeg_cz     eeg_o2     ecg           r         gsr  event  \n",
       "0 -3.95115  14.507600 -4520.0  817.705994  388.829987      A  \n",
       "1  1.33212  17.750200 -4520.0  817.705994  388.829987      A  \n",
       "2  1.53786  22.247000 -4520.0  817.705994  388.829987      A  \n",
       "3  2.54492  18.998600 -4520.0  817.705994  388.829987      A  \n",
       "4  1.69962  22.812799 -4520.0  817.705994  388.829987      A  \n",
       "\n",
       "[5 rows x 28 columns]"
      ]
     },
     "execution_count": 3,
     "metadata": {},
     "output_type": "execute_result"
    }
   ],
   "source": [
    "train.head()"
   ]
  },
  {
   "cell_type": "code",
   "execution_count": 4,
   "metadata": {},
   "outputs": [
    {
     "data": {
      "text/html": [
       "<div>\n",
       "<style scoped>\n",
       "    .dataframe tbody tr th:only-of-type {\n",
       "        vertical-align: middle;\n",
       "    }\n",
       "\n",
       "    .dataframe tbody tr th {\n",
       "        vertical-align: top;\n",
       "    }\n",
       "\n",
       "    .dataframe thead th {\n",
       "        text-align: right;\n",
       "    }\n",
       "</style>\n",
       "<table border=\"1\" class=\"dataframe\">\n",
       "  <thead>\n",
       "    <tr style=\"text-align: right;\">\n",
       "      <th></th>\n",
       "      <th>id</th>\n",
       "      <th>crew</th>\n",
       "      <th>experiment</th>\n",
       "      <th>time</th>\n",
       "      <th>seat</th>\n",
       "      <th>eeg_fp1</th>\n",
       "      <th>eeg_f7</th>\n",
       "      <th>eeg_f8</th>\n",
       "      <th>eeg_t4</th>\n",
       "      <th>eeg_t6</th>\n",
       "      <th>...</th>\n",
       "      <th>eeg_f4</th>\n",
       "      <th>eeg_c4</th>\n",
       "      <th>eeg_p4</th>\n",
       "      <th>eeg_poz</th>\n",
       "      <th>eeg_c3</th>\n",
       "      <th>eeg_cz</th>\n",
       "      <th>eeg_o2</th>\n",
       "      <th>ecg</th>\n",
       "      <th>r</th>\n",
       "      <th>gsr</th>\n",
       "    </tr>\n",
       "  </thead>\n",
       "  <tbody>\n",
       "    <tr>\n",
       "      <th>0</th>\n",
       "      <td>0</td>\n",
       "      <td>1</td>\n",
       "      <td>LOFT</td>\n",
       "      <td>0.000000</td>\n",
       "      <td>0</td>\n",
       "      <td>17.899500</td>\n",
       "      <td>6.127830</td>\n",
       "      <td>0.994807</td>\n",
       "      <td>-28.206200</td>\n",
       "      <td>-47.695499</td>\n",
       "      <td>...</td>\n",
       "      <td>-7.044480</td>\n",
       "      <td>-14.405100</td>\n",
       "      <td>-4.03384</td>\n",
       "      <td>-0.393799</td>\n",
       "      <td>31.83810</td>\n",
       "      <td>17.075600</td>\n",
       "      <td>-8.137350</td>\n",
       "      <td>-7323.120117</td>\n",
       "      <td>643.177002</td>\n",
       "      <td>594.778992</td>\n",
       "    </tr>\n",
       "    <tr>\n",
       "      <th>1</th>\n",
       "      <td>1</td>\n",
       "      <td>1</td>\n",
       "      <td>LOFT</td>\n",
       "      <td>0.000000</td>\n",
       "      <td>1</td>\n",
       "      <td>45.883202</td>\n",
       "      <td>94.749001</td>\n",
       "      <td>23.290800</td>\n",
       "      <td>1.392000</td>\n",
       "      <td>2.060940</td>\n",
       "      <td>...</td>\n",
       "      <td>19.887501</td>\n",
       "      <td>-215.179001</td>\n",
       "      <td>2.11832</td>\n",
       "      <td>7.340940</td>\n",
       "      <td>9.66785</td>\n",
       "      <td>1169.239990</td>\n",
       "      <td>-0.024414</td>\n",
       "      <td>-3335.080078</td>\n",
       "      <td>826.724976</td>\n",
       "      <td>136.235001</td>\n",
       "    </tr>\n",
       "    <tr>\n",
       "      <th>2</th>\n",
       "      <td>2</td>\n",
       "      <td>1</td>\n",
       "      <td>LOFT</td>\n",
       "      <td>0.003906</td>\n",
       "      <td>0</td>\n",
       "      <td>33.120098</td>\n",
       "      <td>28.356501</td>\n",
       "      <td>-7.239220</td>\n",
       "      <td>-7.690860</td>\n",
       "      <td>-25.833799</td>\n",
       "      <td>...</td>\n",
       "      <td>-7.642560</td>\n",
       "      <td>-10.363600</td>\n",
       "      <td>10.95050</td>\n",
       "      <td>6.513360</td>\n",
       "      <td>36.01860</td>\n",
       "      <td>24.356600</td>\n",
       "      <td>0.956158</td>\n",
       "      <td>-7323.120117</td>\n",
       "      <td>643.177002</td>\n",
       "      <td>594.778992</td>\n",
       "    </tr>\n",
       "    <tr>\n",
       "      <th>3</th>\n",
       "      <td>3</td>\n",
       "      <td>1</td>\n",
       "      <td>LOFT</td>\n",
       "      <td>0.003906</td>\n",
       "      <td>1</td>\n",
       "      <td>43.280102</td>\n",
       "      <td>95.887001</td>\n",
       "      <td>18.702299</td>\n",
       "      <td>-1.432890</td>\n",
       "      <td>-4.232600</td>\n",
       "      <td>...</td>\n",
       "      <td>13.826600</td>\n",
       "      <td>-214.223007</td>\n",
       "      <td>-4.91354</td>\n",
       "      <td>3.504520</td>\n",
       "      <td>3.87811</td>\n",
       "      <td>1159.400024</td>\n",
       "      <td>-0.047607</td>\n",
       "      <td>-3335.080078</td>\n",
       "      <td>826.724976</td>\n",
       "      <td>136.235001</td>\n",
       "    </tr>\n",
       "    <tr>\n",
       "      <th>4</th>\n",
       "      <td>4</td>\n",
       "      <td>1</td>\n",
       "      <td>LOFT</td>\n",
       "      <td>0.007812</td>\n",
       "      <td>0</td>\n",
       "      <td>7.929110</td>\n",
       "      <td>3.460380</td>\n",
       "      <td>-10.860800</td>\n",
       "      <td>-26.366699</td>\n",
       "      <td>-25.894699</td>\n",
       "      <td>...</td>\n",
       "      <td>2.045450</td>\n",
       "      <td>-20.788799</td>\n",
       "      <td>-3.61418</td>\n",
       "      <td>-7.539830</td>\n",
       "      <td>3.08397</td>\n",
       "      <td>13.647900</td>\n",
       "      <td>1.473720</td>\n",
       "      <td>-7323.120117</td>\n",
       "      <td>643.177002</td>\n",
       "      <td>594.778992</td>\n",
       "    </tr>\n",
       "  </tbody>\n",
       "</table>\n",
       "<p>5 rows × 28 columns</p>\n",
       "</div>"
      ],
      "text/plain": [
       "   id  crew experiment      time  seat    eeg_fp1     eeg_f7     eeg_f8  \\\n",
       "0   0     1       LOFT  0.000000     0  17.899500   6.127830   0.994807   \n",
       "1   1     1       LOFT  0.000000     1  45.883202  94.749001  23.290800   \n",
       "2   2     1       LOFT  0.003906     0  33.120098  28.356501  -7.239220   \n",
       "3   3     1       LOFT  0.003906     1  43.280102  95.887001  18.702299   \n",
       "4   4     1       LOFT  0.007812     0   7.929110   3.460380 -10.860800   \n",
       "\n",
       "      eeg_t4     eeg_t6  ...     eeg_f4      eeg_c4    eeg_p4   eeg_poz  \\\n",
       "0 -28.206200 -47.695499  ...  -7.044480  -14.405100  -4.03384 -0.393799   \n",
       "1   1.392000   2.060940  ...  19.887501 -215.179001   2.11832  7.340940   \n",
       "2  -7.690860 -25.833799  ...  -7.642560  -10.363600  10.95050  6.513360   \n",
       "3  -1.432890  -4.232600  ...  13.826600 -214.223007  -4.91354  3.504520   \n",
       "4 -26.366699 -25.894699  ...   2.045450  -20.788799  -3.61418 -7.539830   \n",
       "\n",
       "     eeg_c3       eeg_cz    eeg_o2          ecg           r         gsr  \n",
       "0  31.83810    17.075600 -8.137350 -7323.120117  643.177002  594.778992  \n",
       "1   9.66785  1169.239990 -0.024414 -3335.080078  826.724976  136.235001  \n",
       "2  36.01860    24.356600  0.956158 -7323.120117  643.177002  594.778992  \n",
       "3   3.87811  1159.400024 -0.047607 -3335.080078  826.724976  136.235001  \n",
       "4   3.08397    13.647900  1.473720 -7323.120117  643.177002  594.778992  \n",
       "\n",
       "[5 rows x 28 columns]"
      ]
     },
     "execution_count": 4,
     "metadata": {},
     "output_type": "execute_result"
    }
   ],
   "source": [
    "test.head()"
   ]
  },
  {
   "cell_type": "code",
   "execution_count": 5,
   "metadata": {},
   "outputs": [
    {
     "data": {
      "text/html": [
       "<div>\n",
       "<style scoped>\n",
       "    .dataframe tbody tr th:only-of-type {\n",
       "        vertical-align: middle;\n",
       "    }\n",
       "\n",
       "    .dataframe tbody tr th {\n",
       "        vertical-align: top;\n",
       "    }\n",
       "\n",
       "    .dataframe thead th {\n",
       "        text-align: right;\n",
       "    }\n",
       "</style>\n",
       "<table border=\"1\" class=\"dataframe\">\n",
       "  <thead>\n",
       "    <tr style=\"text-align: right;\">\n",
       "      <th></th>\n",
       "      <th>crew</th>\n",
       "      <th>experiment</th>\n",
       "      <th>time</th>\n",
       "      <th>seat</th>\n",
       "      <th>eeg_fp1</th>\n",
       "      <th>eeg_f7</th>\n",
       "      <th>eeg_f8</th>\n",
       "      <th>eeg_t4</th>\n",
       "      <th>eeg_t6</th>\n",
       "      <th>eeg_t5</th>\n",
       "      <th>...</th>\n",
       "      <th>eeg_p4</th>\n",
       "      <th>eeg_poz</th>\n",
       "      <th>eeg_c3</th>\n",
       "      <th>eeg_cz</th>\n",
       "      <th>eeg_o2</th>\n",
       "      <th>ecg</th>\n",
       "      <th>r</th>\n",
       "      <th>gsr</th>\n",
       "      <th>event</th>\n",
       "      <th>target</th>\n",
       "    </tr>\n",
       "  </thead>\n",
       "  <tbody>\n",
       "    <tr>\n",
       "      <th>0</th>\n",
       "      <td>1</td>\n",
       "      <td>CA</td>\n",
       "      <td>0.011719</td>\n",
       "      <td>1</td>\n",
       "      <td>-5.28545</td>\n",
       "      <td>26.775801</td>\n",
       "      <td>-9.527310</td>\n",
       "      <td>-12.793200</td>\n",
       "      <td>16.717800</td>\n",
       "      <td>33.737499</td>\n",
       "      <td>...</td>\n",
       "      <td>17.437599</td>\n",
       "      <td>19.201900</td>\n",
       "      <td>20.5968</td>\n",
       "      <td>-3.95115</td>\n",
       "      <td>14.507600</td>\n",
       "      <td>-4520.0</td>\n",
       "      <td>817.705994</td>\n",
       "      <td>388.829987</td>\n",
       "      <td>A</td>\n",
       "      <td>0.0</td>\n",
       "    </tr>\n",
       "    <tr>\n",
       "      <th>1</th>\n",
       "      <td>1</td>\n",
       "      <td>CA</td>\n",
       "      <td>0.015625</td>\n",
       "      <td>1</td>\n",
       "      <td>-2.42842</td>\n",
       "      <td>28.430901</td>\n",
       "      <td>-9.323510</td>\n",
       "      <td>-3.757230</td>\n",
       "      <td>15.969300</td>\n",
       "      <td>30.443600</td>\n",
       "      <td>...</td>\n",
       "      <td>19.399700</td>\n",
       "      <td>19.689501</td>\n",
       "      <td>21.3547</td>\n",
       "      <td>1.33212</td>\n",
       "      <td>17.750200</td>\n",
       "      <td>-4520.0</td>\n",
       "      <td>817.705994</td>\n",
       "      <td>388.829987</td>\n",
       "      <td>A</td>\n",
       "      <td>0.0</td>\n",
       "    </tr>\n",
       "    <tr>\n",
       "      <th>2</th>\n",
       "      <td>1</td>\n",
       "      <td>CA</td>\n",
       "      <td>0.019531</td>\n",
       "      <td>1</td>\n",
       "      <td>10.67150</td>\n",
       "      <td>30.420200</td>\n",
       "      <td>15.350700</td>\n",
       "      <td>24.724001</td>\n",
       "      <td>16.143101</td>\n",
       "      <td>32.142799</td>\n",
       "      <td>...</td>\n",
       "      <td>19.396299</td>\n",
       "      <td>23.171700</td>\n",
       "      <td>22.4076</td>\n",
       "      <td>1.53786</td>\n",
       "      <td>22.247000</td>\n",
       "      <td>-4520.0</td>\n",
       "      <td>817.705994</td>\n",
       "      <td>388.829987</td>\n",
       "      <td>A</td>\n",
       "      <td>0.0</td>\n",
       "    </tr>\n",
       "    <tr>\n",
       "      <th>3</th>\n",
       "      <td>1</td>\n",
       "      <td>CA</td>\n",
       "      <td>0.023438</td>\n",
       "      <td>1</td>\n",
       "      <td>11.45250</td>\n",
       "      <td>25.609800</td>\n",
       "      <td>2.433080</td>\n",
       "      <td>12.412500</td>\n",
       "      <td>20.533300</td>\n",
       "      <td>31.494101</td>\n",
       "      <td>...</td>\n",
       "      <td>23.156401</td>\n",
       "      <td>22.641199</td>\n",
       "      <td>19.3367</td>\n",
       "      <td>2.54492</td>\n",
       "      <td>18.998600</td>\n",
       "      <td>-4520.0</td>\n",
       "      <td>817.705994</td>\n",
       "      <td>388.829987</td>\n",
       "      <td>A</td>\n",
       "      <td>0.0</td>\n",
       "    </tr>\n",
       "    <tr>\n",
       "      <th>4</th>\n",
       "      <td>1</td>\n",
       "      <td>CA</td>\n",
       "      <td>0.027344</td>\n",
       "      <td>1</td>\n",
       "      <td>7.28321</td>\n",
       "      <td>25.942600</td>\n",
       "      <td>0.113564</td>\n",
       "      <td>5.748000</td>\n",
       "      <td>19.833599</td>\n",
       "      <td>28.753599</td>\n",
       "      <td>...</td>\n",
       "      <td>22.754700</td>\n",
       "      <td>22.670300</td>\n",
       "      <td>20.2932</td>\n",
       "      <td>1.69962</td>\n",
       "      <td>22.812799</td>\n",
       "      <td>-4520.0</td>\n",
       "      <td>817.705994</td>\n",
       "      <td>388.829987</td>\n",
       "      <td>A</td>\n",
       "      <td>0.0</td>\n",
       "    </tr>\n",
       "  </tbody>\n",
       "</table>\n",
       "<p>5 rows × 29 columns</p>\n",
       "</div>"
      ],
      "text/plain": [
       "   crew experiment      time  seat   eeg_fp1     eeg_f7     eeg_f8     eeg_t4  \\\n",
       "0     1         CA  0.011719     1  -5.28545  26.775801  -9.527310 -12.793200   \n",
       "1     1         CA  0.015625     1  -2.42842  28.430901  -9.323510  -3.757230   \n",
       "2     1         CA  0.019531     1  10.67150  30.420200  15.350700  24.724001   \n",
       "3     1         CA  0.023438     1  11.45250  25.609800   2.433080  12.412500   \n",
       "4     1         CA  0.027344     1   7.28321  25.942600   0.113564   5.748000   \n",
       "\n",
       "      eeg_t6     eeg_t5  ...     eeg_p4    eeg_poz   eeg_c3   eeg_cz  \\\n",
       "0  16.717800  33.737499  ...  17.437599  19.201900  20.5968 -3.95115   \n",
       "1  15.969300  30.443600  ...  19.399700  19.689501  21.3547  1.33212   \n",
       "2  16.143101  32.142799  ...  19.396299  23.171700  22.4076  1.53786   \n",
       "3  20.533300  31.494101  ...  23.156401  22.641199  19.3367  2.54492   \n",
       "4  19.833599  28.753599  ...  22.754700  22.670300  20.2932  1.69962   \n",
       "\n",
       "      eeg_o2     ecg           r         gsr  event  target  \n",
       "0  14.507600 -4520.0  817.705994  388.829987      A     0.0  \n",
       "1  17.750200 -4520.0  817.705994  388.829987      A     0.0  \n",
       "2  22.247000 -4520.0  817.705994  388.829987      A     0.0  \n",
       "3  18.998600 -4520.0  817.705994  388.829987      A     0.0  \n",
       "4  22.812799 -4520.0  817.705994  388.829987      A     0.0  \n",
       "\n",
       "[5 rows x 29 columns]"
      ]
     },
     "execution_count": 5,
     "metadata": {},
     "output_type": "execute_result"
    }
   ],
   "source": [
    "# Create a new 'target' column with all 0\n",
    "train['target'] = 0.0\n",
    "\n",
    "# Mask the rows with non-base events and set them as different positive classes\n",
    "mask = train['event'] == 'A'\n",
    "train.loc[mask, 'target'] = 0.0\n",
    "mask = train['event'] == 'B'\n",
    "train.loc[mask, 'target'] = 1.0\n",
    "mask = train['event'] == 'C'\n",
    "train.loc[mask, 'target'] = 1.0\n",
    "mask = train['event'] == 'D'\n",
    "train.loc[mask, 'target'] = 1.0\n",
    "\n",
    "train[:5]"
   ]
  },
  {
   "cell_type": "code",
   "execution_count": 6,
   "metadata": {},
   "outputs": [
    {
     "data": {
      "text/plain": [
       "\"# Create a new 'target' column with all 0\\ntrain['exp'] = 0.0\\n\\n# Mask the rows with non-base events and set them as different positive classes\\nmask = train['experiment'] == 'SS'\\ntrain.loc[mask, 'exp'] = 1.0\\nmask = train['experiment'] == 'CA'\\ntrain.loc[mask, 'exp'] = 2.0\\nmask = train['experiment'] == 'DA'\\ntrain.loc[mask, 'exp'] = 3.0\""
      ]
     },
     "execution_count": 6,
     "metadata": {},
     "output_type": "execute_result"
    }
   ],
   "source": [
    "\"\"\"# Create a new 'target' column with all 0\n",
    "train['exp'] = 0.0\n",
    "\n",
    "# Mask the rows with non-base events and set them as different positive classes\n",
    "mask = train['experiment'] == 'SS'\n",
    "train.loc[mask, 'exp'] = 1.0\n",
    "mask = train['experiment'] == 'CA'\n",
    "train.loc[mask, 'exp'] = 2.0\n",
    "mask = train['experiment'] == 'DA'\n",
    "train.loc[mask, 'exp'] = 3.0\"\"\"\n"
   ]
  },
  {
   "cell_type": "code",
   "execution_count": 7,
   "metadata": {},
   "outputs": [
    {
     "name": "stdout",
     "output_type": "stream",
     "text": [
      "Design matrix X\n",
      "   seat      time           r         gsr   eeg_fp1     eeg_f7     eeg_f8  \\\n",
      "0   1.0  0.011719  817.705994  388.829987  -5.28545  26.775801  -9.527310   \n",
      "1   1.0  0.015625  817.705994  388.829987  -2.42842  28.430901  -9.323510   \n",
      "2   1.0  0.019531  817.705994  388.829987  10.67150  30.420200  15.350700   \n",
      "3   1.0  0.023438  817.705994  388.829987  11.45250  25.609800   2.433080   \n",
      "4   1.0  0.027344  817.705994  388.829987   7.28321  25.942600   0.113564   \n",
      "\n",
      "      eeg_t4     eeg_t6     eeg_t5  ...     eeg_f3   eeg_fz    eeg_f4  \\\n",
      "0 -12.793200  16.717800  33.737499  ...  18.447001  1.07547   3.09029   \n",
      "1  -3.757230  15.969300  30.443600  ...  20.510599  2.83354   7.10177   \n",
      "2  24.724001  16.143101  32.142799  ...  23.162901  4.51993  12.70550   \n",
      "3  12.412500  20.533300  31.494101  ...  19.961901  7.27575  11.45980   \n",
      "4   5.748000  19.833599  28.753599  ...  18.746901  7.30976   8.00805   \n",
      "\n",
      "      eeg_c4     eeg_p4    eeg_poz   eeg_c3   eeg_cz     eeg_o2     ecg  \n",
      "0  37.368999  17.437599  19.201900  20.5968 -3.95115  14.507600 -4520.0  \n",
      "1  31.170799  19.399700  19.689501  21.3547  1.33212  17.750200 -4520.0  \n",
      "2 -12.012600  19.396299  23.171700  22.4076  1.53786  22.247000 -4520.0  \n",
      "3  18.574100  23.156401  22.641199  19.3367  2.54492  18.998600 -4520.0  \n",
      "4   6.555440  22.754700  22.670300  20.2932  1.69962  22.812799 -4520.0  \n",
      "\n",
      "[5 rows x 25 columns]\n",
      "Outcomes Y\n",
      "   target\n",
      "0     0.0\n",
      "1     0.0\n",
      "2     0.0\n",
      "3     0.0\n",
      "4     0.0\n"
     ]
    }
   ],
   "source": [
    "Y, X = dmatrices('target ~ 0 + seat + time + r + gsr + eeg_fp1 +eeg_f7 + eeg_f8+eeg_t4+eeg_t6+\\\n",
    "                 eeg_t5 +eeg_t3+eeg_fp2+eeg_o1+eeg_p3+eeg_pz+eeg_f3+eeg_fz+eeg_f4+eeg_c4+eeg_p4+\\\n",
    "                 eeg_poz+eeg_c3+eeg_cz+eeg_o2+ecg',\n",
    "                 train,return_type=\"dataframe\")\n",
    "print('Design matrix X')\n",
    "print(X[:5])\n",
    "print('Outcomes Y')\n",
    "print(Y[:5])"
   ]
  },
  {
   "cell_type": "code",
   "execution_count": 8,
   "metadata": {},
   "outputs": [
    {
     "name": "stdout",
     "output_type": "stream",
     "text": [
      "                                 OLS Regression Results                                \n",
      "=======================================================================================\n",
      "Dep. Variable:                 target   R-squared (uncentered):                   0.421\n",
      "Model:                            OLS   Adj. R-squared (uncentered):              0.421\n",
      "Method:                 Least Squares   F-statistic:                          1.414e+05\n",
      "Date:                Sun, 09 Aug 2020   Prob (F-statistic):                        0.00\n",
      "Time:                        19:11:59   Log-Likelihood:                     -3.4355e+06\n",
      "No. Observations:             4867421   AIC:                                  6.871e+06\n",
      "Df Residuals:                 4867396   BIC:                                  6.871e+06\n",
      "Df Model:                          25                                                  \n",
      "Covariance Type:            nonrobust                                                  \n",
      "==============================================================================\n",
      "                 coef    std err          t      P>|t|      [0.025      0.975]\n",
      "------------------------------------------------------------------------------\n",
      "seat          -0.0433      0.001    -80.888      0.000      -0.044      -0.042\n",
      "time           0.0001   2.13e-06     67.204      0.000       0.000       0.000\n",
      "r              0.0005   9.75e-07    483.695      0.000       0.000       0.000\n",
      "gsr         9.368e-05   4.57e-07    205.064      0.000    9.28e-05    9.46e-05\n",
      "eeg_fp1       -0.0002    9.2e-06    -17.601      0.000      -0.000      -0.000\n",
      "eeg_f7         0.0001   1.01e-05     11.841      0.000    9.97e-05       0.000\n",
      "eeg_f8      9.657e-05   1.09e-05      8.889      0.000    7.53e-05       0.000\n",
      "eeg_t4         0.0001   1.37e-05      8.662      0.000    9.15e-05       0.000\n",
      "eeg_t6     -5.271e-05   1.79e-05     -2.941      0.003   -8.78e-05   -1.76e-05\n",
      "eeg_t5     -4.851e-05    1.8e-05     -2.691      0.007   -8.38e-05   -1.32e-05\n",
      "eeg_t3       5.24e-05    1.2e-05      4.371      0.000    2.89e-05    7.59e-05\n",
      "eeg_fp2       -0.0002   1.08e-05    -14.583      0.000      -0.000      -0.000\n",
      "eeg_o1     -7.077e-06   1.05e-05     -0.676      0.499   -2.76e-05    1.35e-05\n",
      "eeg_p3         0.0002   3.97e-05      6.191      0.000       0.000       0.000\n",
      "eeg_pz      6.947e-06    3.7e-06      1.875      0.061   -3.14e-07    1.42e-05\n",
      "eeg_f3     -6.554e-05    6.2e-06    -10.579      0.000   -7.77e-05   -5.34e-05\n",
      "eeg_fz     -2.003e-06   4.57e-06     -0.438      0.661    -1.1e-05    6.95e-06\n",
      "eeg_f4      1.339e-05    6.3e-06      2.124      0.034    1.04e-06    2.57e-05\n",
      "eeg_c4        -0.0002   2.21e-05     -8.412      0.000      -0.000      -0.000\n",
      "eeg_p4         0.0002   3.49e-05      4.335      0.000    8.29e-05       0.000\n",
      "eeg_poz        0.0002   2.77e-05      5.839      0.000       0.000       0.000\n",
      "eeg_c3     -8.225e-05   2.52e-05     -3.262      0.001      -0.000   -3.28e-05\n",
      "eeg_cz     -2.676e-05   1.56e-05     -1.720      0.085   -5.73e-05    3.73e-06\n",
      "eeg_o2     -5.946e-05    1.4e-05     -4.245      0.000   -8.69e-05    -3.2e-05\n",
      "ecg         -3.15e-06   1.89e-08   -166.953      0.000   -3.19e-06   -3.11e-06\n",
      "==============================================================================\n",
      "Omnibus:                 18621932.760   Durbin-Watson:                   0.101\n",
      "Prob(Omnibus):                  0.000   Jarque-Bera (JB):           772838.930\n",
      "Skew:                           0.340   Prob(JB):                         0.00\n",
      "Kurtosis:                       1.170   Cond. No.                     3.20e+04\n",
      "==============================================================================\n",
      "\n",
      "Warnings:\n",
      "[1] Standard Errors assume that the covariance matrix of the errors is correctly specified.\n",
      "[2] The condition number is large, 3.2e+04. This might indicate that there are\n",
      "strong multicollinearity or other numerical problems.\n"
     ]
    }
   ],
   "source": [
    "model = sm.OLS(Y, X)       # Set up the model\n",
    "result = model.fit()       # Fit model (find the intercept and slopes)\n",
    "print(result.summary())"
   ]
  },
  {
   "cell_type": "code",
   "execution_count": 9,
   "metadata": {},
   "outputs": [
    {
     "data": {
      "text/plain": [
       "seat       0.000000e+00\n",
       "time       0.000000e+00\n",
       "r          0.000000e+00\n",
       "gsr        0.000000e+00\n",
       "eeg_fp1    2.438101e-69\n",
       "eeg_f7     2.401436e-32\n",
       "eeg_f8     6.184722e-19\n",
       "eeg_t4     4.654031e-18\n",
       "eeg_t6     3.271753e-03\n",
       "eeg_t5     7.122670e-03\n",
       "eeg_t3     1.234129e-05\n",
       "eeg_fp2    3.615955e-48\n",
       "eeg_o1     4.992639e-01\n",
       "eeg_p3     5.974487e-10\n",
       "eeg_pz     6.075269e-02\n",
       "eeg_f3     3.712221e-26\n",
       "eeg_fz     6.610666e-01\n",
       "eeg_f4     3.365214e-02\n",
       "eeg_c4     4.019989e-17\n",
       "eeg_p4     1.460599e-05\n",
       "eeg_poz    5.243119e-09\n",
       "eeg_c3     1.106898e-03\n",
       "eeg_cz     8.542574e-02\n",
       "eeg_o2     2.184650e-05\n",
       "ecg        0.000000e+00\n",
       "dtype: float64"
      ]
     },
     "execution_count": 9,
     "metadata": {},
     "output_type": "execute_result"
    }
   ],
   "source": [
    "result.pvalues"
   ]
  },
  {
   "cell_type": "code",
   "execution_count": 10,
   "metadata": {},
   "outputs": [
    {
     "name": "stdout",
     "output_type": "stream",
     "text": [
      "[0. 0. 0. 0. 0.]\n"
     ]
    }
   ],
   "source": [
    "t = Y['target'].values\n",
    "print(t[:5])"
   ]
  },
  {
   "cell_type": "code",
   "execution_count": 11,
   "metadata": {},
   "outputs": [
    {
     "data": {
      "text/plain": [
       "Text(0, 0.5, 'gsr')"
      ]
     },
     "execution_count": 11,
     "metadata": {},
     "output_type": "execute_result"
    },
    {
     "data": {
      "image/png": "[encoded data removed]",
      "text/plain": [
       "<Figure size 432x288 with 2 Axes>"
      ]
     },
     "metadata": {
      "needs_background": "light"
     },
     "output_type": "display_data"
    }
   ],
   "source": [
    "# scatter plot of distractedness related to respiration and gsr\n",
    "sc = scatter(train['r'], train['gsr'], c = t, cmap = 'bwr')\n",
    "colorbar(sc)\n",
    "xlabel('respiration')\n",
    "ylabel('gsr')"
   ]
  },
  {
   "cell_type": "code",
   "execution_count": 12,
   "metadata": {},
   "outputs": [
    {
     "data": {
      "image/png": "[encoded data removed]",
      "text/plain": [
       "<Figure size 432x288 with 2 Axes>"
      ]
     },
     "metadata": {
      "needs_background": "light"
     },
     "output_type": "display_data"
    }
   ],
   "source": [
    "from mpl_toolkits.mplot3d import Axes3D\n",
    "import matplotlib.pyplot as plt\n",
    "\n",
    "fig = plt.figure()\n",
    "ax = fig.add_subplot(111, projection='3d')\n",
    "\n",
    "x =train['r']\n",
    "y =train['gsr']\n",
    "z =train['seat']\n",
    "\n",
    "scatter_3d = ax.scatter(x, y, z, c=t, cmap = 'bwr', marker='o')\n",
    "colorbar(scatter_3d)\n",
    "\n",
    "ax.set_xlabel('r')\n",
    "ax.set_ylabel('gsr')\n",
    "ax.set_zlabel('seat')\n",
    "\n",
    "plt.show()"
   ]
  },
  {
   "cell_type": "markdown",
   "metadata": {},
   "source": [
    "y_test"
   ]
  },
  {
   "cell_type": "markdown",
   "metadata": {},
   "source": [
    "## Logistic Regression"
   ]
  },
  {
   "cell_type": "code",
   "execution_count": 14,
   "metadata": {},
   "outputs": [],
   "source": [
    "from sklearn.model_selection import train_test_split\n",
    "X_train, X_test, y_train, y_test = train_test_split(X, t, test_size=0.3, random_state=1)"
   ]
  },
  {
   "cell_type": "code",
   "execution_count": 15,
   "metadata": {},
   "outputs": [],
   "source": [
    "# fit the classifier\n",
    "from sklearn.linear_model import LogisticRegression\n",
    "model = LogisticRegression()\n",
    "result = model.fit(X_train, y_train)"
   ]
  },
  {
   "cell_type": "code",
   "execution_count": 16,
   "metadata": {},
   "outputs": [
    {
     "name": "stdout",
     "output_type": "stream",
     "text": [
      "The accuracy of prediction without looking at the features is:  0.5883821114970266\n"
     ]
    }
   ],
   "source": [
    "# accuracy on test set\n",
    "from sklearn import metrics\n",
    "\n",
    "prediction_train = model.predict(X_train)\n",
    "print(\"The accuracy of prediction without looking at the features is: \", metrics.accuracy_score(y_train, prediction_train))"
   ]
  },
  {
   "cell_type": "code",
   "execution_count": 17,
   "metadata": {},
   "outputs": [
    {
     "name": "stdout",
     "output_type": "stream",
     "text": [
      "Number of distracted events = 1413786\n",
      "Number of baseline events = 1993408\n"
     ]
    }
   ],
   "source": [
    "# y_train is 0 or 1.\n",
    "print('Number of distracted events =', len(y_train[y_train==1]))\n",
    "print('Number of baseline events =', len(y_train[y_train==0]))"
   ]
  },
  {
   "cell_type": "code",
   "execution_count": 18,
   "metadata": {},
   "outputs": [
    {
     "name": "stdout",
     "output_type": "stream",
     "text": [
      "Number of baseline events = 855401\n",
      "Baseline event rate = 0.5858000160249057\n"
     ]
    }
   ],
   "source": [
    "baseline_events_in_test = len(y_test[y_test==0])\n",
    "total_events_in_test = len(y_test)\n",
    "\n",
    "print('Number of baseline events =', baseline_events_in_test)\n",
    "print('Baseline event rate =', baseline_events_in_test * 1.0 / total_events_in_test)"
   ]
  },
  {
   "cell_type": "code",
   "execution_count": 19,
   "metadata": {},
   "outputs": [
    {
     "data": {
      "text/plain": [
       "array([[ 1.36973630e-04,  3.46923935e-04, -7.63103472e-04,\n",
       "         2.72707403e-04, -8.66499184e-04,  5.77674552e-04,\n",
       "         3.39387809e-04,  5.35762751e-04, -1.91682630e-05,\n",
       "         1.43949788e-04,  3.66394240e-04, -5.91153980e-04,\n",
       "        -1.29782440e-05,  2.47179990e-04,  6.26439935e-05,\n",
       "        -3.12790302e-04, -2.23814264e-05,  1.08023965e-04,\n",
       "        -2.90316077e-04,  9.71568408e-05,  2.85900455e-04,\n",
       "         4.41937306e-07, -8.36104210e-05, -6.00972382e-05,\n",
       "        -1.20128641e-05]])"
      ]
     },
     "execution_count": 19,
     "metadata": {},
     "output_type": "execute_result"
    }
   ],
   "source": [
    "# feature weights\n",
    "model.coef_"
   ]
  },
  {
   "cell_type": "code",
   "execution_count": 20,
   "metadata": {},
   "outputs": [
    {
     "data": {
      "text/plain": [
       "LogisticRegression(C=1.0, class_weight=None, dual=False, fit_intercept=True,\n",
       "                   intercept_scaling=1, l1_ratio=None, max_iter=100,\n",
       "                   multi_class='auto', n_jobs=None, penalty='l2',\n",
       "                   random_state=None, solver='lbfgs', tol=0.0001, verbose=0,\n",
       "                   warm_start=False)"
      ]
     },
     "execution_count": 20,
     "metadata": {},
     "output_type": "execute_result"
    }
   ],
   "source": [
    "model"
   ]
  },
  {
   "cell_type": "code",
   "execution_count": 21,
   "metadata": {},
   "outputs": [
    {
     "data": {
      "text/plain": [
       "array([-3.63025965e-05])"
      ]
     },
     "execution_count": 21,
     "metadata": {},
     "output_type": "execute_result"
    }
   ],
   "source": [
    "# And the model intercept\n",
    "model.intercept_"
   ]
  },
  {
   "cell_type": "code",
   "execution_count": 22,
   "metadata": {},
   "outputs": [
    {
     "data": {
      "text/plain": [
       "array([0., 1.])"
      ]
     },
     "execution_count": 22,
     "metadata": {},
     "output_type": "execute_result"
    }
   ],
   "source": [
    "model.classes_"
   ]
  },
  {
   "cell_type": "code",
   "execution_count": 23,
   "metadata": {},
   "outputs": [
    {
     "data": {
      "text/plain": [
       "array([[0.60741789, 0.39258211],\n",
       "       [0.62712476, 0.37287524],\n",
       "       [0.63673998, 0.36326002],\n",
       "       ...,\n",
       "       [0.52795654, 0.47204346],\n",
       "       [0.63007397, 0.36992603],\n",
       "       [0.53578948, 0.46421052]])"
      ]
     },
     "execution_count": 23,
     "metadata": {},
     "output_type": "execute_result"
    }
   ],
   "source": [
    "model.predict_proba(X_test)"
   ]
  },
  {
   "cell_type": "code",
   "execution_count": 24,
   "metadata": {},
   "outputs": [
    {
     "data": {
      "text/plain": [
       "array([0., 0., 0., ..., 0., 0., 0.])"
      ]
     },
     "execution_count": 24,
     "metadata": {},
     "output_type": "execute_result"
    }
   ],
   "source": [
    "model.predict(X_test)"
   ]
  },
  {
   "cell_type": "code",
   "execution_count": 25,
   "metadata": {},
   "outputs": [],
   "source": [
    "weights = Series(model.coef_[0],\n",
    "                 index=X.columns.values)\n",
    "w = weights.sort_values(ascending=False)"
   ]
  },
  {
   "cell_type": "code",
   "execution_count": 27,
   "metadata": {},
   "outputs": [
    {
     "data": {
      "text/html": [
       "<div>\n",
       "<style scoped>\n",
       "    .dataframe tbody tr th:only-of-type {\n",
       "        vertical-align: middle;\n",
       "    }\n",
       "\n",
       "    .dataframe tbody tr th {\n",
       "        vertical-align: top;\n",
       "    }\n",
       "\n",
       "    .dataframe thead th {\n",
       "        text-align: right;\n",
       "    }\n",
       "</style>\n",
       "<table border=\"1\" class=\"dataframe\">\n",
       "  <thead>\n",
       "    <tr style=\"text-align: right;\">\n",
       "      <th></th>\n",
       "      <th>weight</th>\n",
       "    </tr>\n",
       "  </thead>\n",
       "  <tbody>\n",
       "    <tr>\n",
       "      <th>eeg_f7</th>\n",
       "      <td>5.776746e-04</td>\n",
       "    </tr>\n",
       "    <tr>\n",
       "      <th>eeg_t4</th>\n",
       "      <td>5.357628e-04</td>\n",
       "    </tr>\n",
       "    <tr>\n",
       "      <th>eeg_t3</th>\n",
       "      <td>3.663942e-04</td>\n",
       "    </tr>\n",
       "    <tr>\n",
       "      <th>time</th>\n",
       "      <td>3.469239e-04</td>\n",
       "    </tr>\n",
       "    <tr>\n",
       "      <th>eeg_f8</th>\n",
       "      <td>3.393878e-04</td>\n",
       "    </tr>\n",
       "    <tr>\n",
       "      <th>eeg_poz</th>\n",
       "      <td>2.859005e-04</td>\n",
       "    </tr>\n",
       "    <tr>\n",
       "      <th>gsr</th>\n",
       "      <td>2.727074e-04</td>\n",
       "    </tr>\n",
       "    <tr>\n",
       "      <th>eeg_p3</th>\n",
       "      <td>2.471800e-04</td>\n",
       "    </tr>\n",
       "    <tr>\n",
       "      <th>eeg_t5</th>\n",
       "      <td>1.439498e-04</td>\n",
       "    </tr>\n",
       "    <tr>\n",
       "      <th>seat</th>\n",
       "      <td>1.369736e-04</td>\n",
       "    </tr>\n",
       "    <tr>\n",
       "      <th>eeg_f4</th>\n",
       "      <td>1.080240e-04</td>\n",
       "    </tr>\n",
       "    <tr>\n",
       "      <th>eeg_p4</th>\n",
       "      <td>9.715684e-05</td>\n",
       "    </tr>\n",
       "    <tr>\n",
       "      <th>eeg_pz</th>\n",
       "      <td>6.264399e-05</td>\n",
       "    </tr>\n",
       "    <tr>\n",
       "      <th>eeg_c3</th>\n",
       "      <td>4.419373e-07</td>\n",
       "    </tr>\n",
       "    <tr>\n",
       "      <th>ecg</th>\n",
       "      <td>-1.201286e-05</td>\n",
       "    </tr>\n",
       "    <tr>\n",
       "      <th>eeg_o1</th>\n",
       "      <td>-1.297824e-05</td>\n",
       "    </tr>\n",
       "    <tr>\n",
       "      <th>eeg_t6</th>\n",
       "      <td>-1.916826e-05</td>\n",
       "    </tr>\n",
       "    <tr>\n",
       "      <th>eeg_fz</th>\n",
       "      <td>-2.238143e-05</td>\n",
       "    </tr>\n",
       "    <tr>\n",
       "      <th>eeg_o2</th>\n",
       "      <td>-6.009724e-05</td>\n",
       "    </tr>\n",
       "    <tr>\n",
       "      <th>eeg_cz</th>\n",
       "      <td>-8.361042e-05</td>\n",
       "    </tr>\n",
       "    <tr>\n",
       "      <th>eeg_c4</th>\n",
       "      <td>-2.903161e-04</td>\n",
       "    </tr>\n",
       "    <tr>\n",
       "      <th>eeg_f3</th>\n",
       "      <td>-3.127903e-04</td>\n",
       "    </tr>\n",
       "    <tr>\n",
       "      <th>eeg_fp2</th>\n",
       "      <td>-5.911540e-04</td>\n",
       "    </tr>\n",
       "    <tr>\n",
       "      <th>r</th>\n",
       "      <td>-7.631035e-04</td>\n",
       "    </tr>\n",
       "    <tr>\n",
       "      <th>eeg_fp1</th>\n",
       "      <td>-8.664992e-04</td>\n",
       "    </tr>\n",
       "  </tbody>\n",
       "</table>\n",
       "</div>"
      ],
      "text/plain": [
       "               weight\n",
       "eeg_f7   5.776746e-04\n",
       "eeg_t4   5.357628e-04\n",
       "eeg_t3   3.663942e-04\n",
       "time     3.469239e-04\n",
       "eeg_f8   3.393878e-04\n",
       "eeg_poz  2.859005e-04\n",
       "gsr      2.727074e-04\n",
       "eeg_p3   2.471800e-04\n",
       "eeg_t5   1.439498e-04\n",
       "seat     1.369736e-04\n",
       "eeg_f4   1.080240e-04\n",
       "eeg_p4   9.715684e-05\n",
       "eeg_pz   6.264399e-05\n",
       "eeg_c3   4.419373e-07\n",
       "ecg     -1.201286e-05\n",
       "eeg_o1  -1.297824e-05\n",
       "eeg_t6  -1.916826e-05\n",
       "eeg_fz  -2.238143e-05\n",
       "eeg_o2  -6.009724e-05\n",
       "eeg_cz  -8.361042e-05\n",
       "eeg_c4  -2.903161e-04\n",
       "eeg_f3  -3.127903e-04\n",
       "eeg_fp2 -5.911540e-04\n",
       "r       -7.631035e-04\n",
       "eeg_fp1 -8.664992e-04"
      ]
     },
     "execution_count": 27,
     "metadata": {},
     "output_type": "execute_result"
    }
   ],
   "source": [
    "weights = pd.DataFrame(w, columns=['weight'])\n",
    "#weights.set_index()\n",
    "weights"
   ]
  },
  {
   "cell_type": "code",
   "execution_count": 29,
   "metadata": {},
   "outputs": [
    {
     "data": {
      "text/html": [
       "<div>\n",
       "<style scoped>\n",
       "    .dataframe tbody tr th:only-of-type {\n",
       "        vertical-align: middle;\n",
       "    }\n",
       "\n",
       "    .dataframe tbody tr th {\n",
       "        vertical-align: top;\n",
       "    }\n",
       "\n",
       "    .dataframe thead th {\n",
       "        text-align: right;\n",
       "    }\n",
       "</style>\n",
       "<table border=\"1\" class=\"dataframe\">\n",
       "  <thead>\n",
       "    <tr style=\"text-align: right;\">\n",
       "      <th></th>\n",
       "      <th>weight</th>\n",
       "    </tr>\n",
       "  </thead>\n",
       "  <tbody>\n",
       "    <tr>\n",
       "      <th>ecg</th>\n",
       "      <td>-0.000012</td>\n",
       "    </tr>\n",
       "    <tr>\n",
       "      <th>eeg_o1</th>\n",
       "      <td>-0.000013</td>\n",
       "    </tr>\n",
       "    <tr>\n",
       "      <th>eeg_t6</th>\n",
       "      <td>-0.000019</td>\n",
       "    </tr>\n",
       "    <tr>\n",
       "      <th>eeg_fz</th>\n",
       "      <td>-0.000022</td>\n",
       "    </tr>\n",
       "    <tr>\n",
       "      <th>eeg_o2</th>\n",
       "      <td>-0.000060</td>\n",
       "    </tr>\n",
       "    <tr>\n",
       "      <th>eeg_cz</th>\n",
       "      <td>-0.000084</td>\n",
       "    </tr>\n",
       "    <tr>\n",
       "      <th>eeg_c4</th>\n",
       "      <td>-0.000290</td>\n",
       "    </tr>\n",
       "    <tr>\n",
       "      <th>eeg_f3</th>\n",
       "      <td>-0.000313</td>\n",
       "    </tr>\n",
       "    <tr>\n",
       "      <th>eeg_fp2</th>\n",
       "      <td>-0.000591</td>\n",
       "    </tr>\n",
       "    <tr>\n",
       "      <th>r</th>\n",
       "      <td>-0.000763</td>\n",
       "    </tr>\n",
       "    <tr>\n",
       "      <th>eeg_fp1</th>\n",
       "      <td>-0.000866</td>\n",
       "    </tr>\n",
       "  </tbody>\n",
       "</table>\n",
       "</div>"
      ],
      "text/plain": [
       "           weight\n",
       "ecg     -0.000012\n",
       "eeg_o1  -0.000013\n",
       "eeg_t6  -0.000019\n",
       "eeg_fz  -0.000022\n",
       "eeg_o2  -0.000060\n",
       "eeg_cz  -0.000084\n",
       "eeg_c4  -0.000290\n",
       "eeg_f3  -0.000313\n",
       "eeg_fp2 -0.000591\n",
       "r       -0.000763\n",
       "eeg_fp1 -0.000866"
      ]
     },
     "execution_count": 29,
     "metadata": {},
     "output_type": "execute_result"
    }
   ],
   "source": [
    "pos = weights[weights['weight'] > 0]\n",
    "neg = weights[weights['weight'] < 0]\n",
    "neg"
   ]
  },
  {
   "cell_type": "code",
   "execution_count": 30,
   "metadata": {},
   "outputs": [
    {
     "data": {
      "text/html": [
       "<div>\n",
       "<style scoped>\n",
       "    .dataframe tbody tr th:only-of-type {\n",
       "        vertical-align: middle;\n",
       "    }\n",
       "\n",
       "    .dataframe tbody tr th {\n",
       "        vertical-align: top;\n",
       "    }\n",
       "\n",
       "    .dataframe thead th {\n",
       "        text-align: right;\n",
       "    }\n",
       "</style>\n",
       "<table border=\"1\" class=\"dataframe\">\n",
       "  <thead>\n",
       "    <tr style=\"text-align: right;\">\n",
       "      <th></th>\n",
       "      <th>weight</th>\n",
       "    </tr>\n",
       "  </thead>\n",
       "  <tbody>\n",
       "    <tr>\n",
       "      <th>eeg_t4</th>\n",
       "      <td>5.357628e-04</td>\n",
       "    </tr>\n",
       "    <tr>\n",
       "      <th>eeg_t3</th>\n",
       "      <td>3.663942e-04</td>\n",
       "    </tr>\n",
       "    <tr>\n",
       "      <th>time</th>\n",
       "      <td>3.469239e-04</td>\n",
       "    </tr>\n",
       "    <tr>\n",
       "      <th>eeg_f8</th>\n",
       "      <td>3.393878e-04</td>\n",
       "    </tr>\n",
       "    <tr>\n",
       "      <th>eeg_poz</th>\n",
       "      <td>2.859005e-04</td>\n",
       "    </tr>\n",
       "    <tr>\n",
       "      <th>gsr</th>\n",
       "      <td>2.727074e-04</td>\n",
       "    </tr>\n",
       "    <tr>\n",
       "      <th>eeg_p3</th>\n",
       "      <td>2.471800e-04</td>\n",
       "    </tr>\n",
       "    <tr>\n",
       "      <th>eeg_t5</th>\n",
       "      <td>1.439498e-04</td>\n",
       "    </tr>\n",
       "    <tr>\n",
       "      <th>seat</th>\n",
       "      <td>1.369736e-04</td>\n",
       "    </tr>\n",
       "    <tr>\n",
       "      <th>eeg_f4</th>\n",
       "      <td>1.080240e-04</td>\n",
       "    </tr>\n",
       "    <tr>\n",
       "      <th>eeg_p4</th>\n",
       "      <td>9.715684e-05</td>\n",
       "    </tr>\n",
       "    <tr>\n",
       "      <th>eeg_pz</th>\n",
       "      <td>6.264399e-05</td>\n",
       "    </tr>\n",
       "    <tr>\n",
       "      <th>eeg_c3</th>\n",
       "      <td>4.419373e-07</td>\n",
       "    </tr>\n",
       "    <tr>\n",
       "      <th>ecg</th>\n",
       "      <td>-1.201286e-05</td>\n",
       "    </tr>\n",
       "    <tr>\n",
       "      <th>eeg_o1</th>\n",
       "      <td>-1.297824e-05</td>\n",
       "    </tr>\n",
       "    <tr>\n",
       "      <th>eeg_t6</th>\n",
       "      <td>-1.916826e-05</td>\n",
       "    </tr>\n",
       "    <tr>\n",
       "      <th>eeg_fz</th>\n",
       "      <td>-2.238143e-05</td>\n",
       "    </tr>\n",
       "    <tr>\n",
       "      <th>eeg_o2</th>\n",
       "      <td>-6.009724e-05</td>\n",
       "    </tr>\n",
       "    <tr>\n",
       "      <th>eeg_cz</th>\n",
       "      <td>-8.361042e-05</td>\n",
       "    </tr>\n",
       "    <tr>\n",
       "      <th>eeg_c4</th>\n",
       "      <td>-2.903161e-04</td>\n",
       "    </tr>\n",
       "    <tr>\n",
       "      <th>eeg_f3</th>\n",
       "      <td>-3.127903e-04</td>\n",
       "    </tr>\n",
       "    <tr>\n",
       "      <th>eeg_fp2</th>\n",
       "      <td>-5.911540e-04</td>\n",
       "    </tr>\n",
       "    <tr>\n",
       "      <th>r</th>\n",
       "      <td>-7.631035e-04</td>\n",
       "    </tr>\n",
       "    <tr>\n",
       "      <th>eeg_fp1</th>\n",
       "      <td>-8.664992e-04</td>\n",
       "    </tr>\n",
       "  </tbody>\n",
       "</table>\n",
       "</div>"
      ],
      "text/plain": [
       "               weight\n",
       "eeg_t4   5.357628e-04\n",
       "eeg_t3   3.663942e-04\n",
       "time     3.469239e-04\n",
       "eeg_f8   3.393878e-04\n",
       "eeg_poz  2.859005e-04\n",
       "gsr      2.727074e-04\n",
       "eeg_p3   2.471800e-04\n",
       "eeg_t5   1.439498e-04\n",
       "seat     1.369736e-04\n",
       "eeg_f4   1.080240e-04\n",
       "eeg_p4   9.715684e-05\n",
       "eeg_pz   6.264399e-05\n",
       "eeg_c3   4.419373e-07\n",
       "ecg     -1.201286e-05\n",
       "eeg_o1  -1.297824e-05\n",
       "eeg_t6  -1.916826e-05\n",
       "eeg_fz  -2.238143e-05\n",
       "eeg_o2  -6.009724e-05\n",
       "eeg_cz  -8.361042e-05\n",
       "eeg_c4  -2.903161e-04\n",
       "eeg_f3  -3.127903e-04\n",
       "eeg_fp2 -5.911540e-04\n",
       "r       -7.631035e-04\n",
       "eeg_fp1 -8.664992e-04"
      ]
     },
     "execution_count": 30,
     "metadata": {},
     "output_type": "execute_result"
    }
   ],
   "source": [
    "value = weights[1:].sort_values(by = 'weight',ascending=False).values\n",
    "weights[1:].sort_values(by = 'weight',ascending=False)"
   ]
  },
  {
   "cell_type": "code",
   "execution_count": 31,
   "metadata": {
    "scrolled": true
   },
   "outputs": [
    {
     "data": {
      "text/plain": [
       "<matplotlib.axes._subplots.AxesSubplot at 0x1a37a99edc8>"
      ]
     },
     "execution_count": 31,
     "metadata": {},
     "output_type": "execute_result"
    },
    {
     "data": {
      "image/png": "[encoded data removed]",
      "text/plain": [
       "<Figure size 432x288 with 1 Axes>"
      ]
     },
     "metadata": {
      "needs_background": "light"
     },
     "output_type": "display_data"
    }
   ],
   "source": [
    "data = pd.DataFrame(value, index = weights[1:].index, columns = ['weights'])\n",
    "data.plot(kind='bar')"
   ]
  },
  {
   "cell_type": "markdown",
   "metadata": {},
   "source": [
    "**Observations**\n",
    "\n",
    "* **eeg_fp2** and **respiration** has the most **negative** weights\n",
    "    * a higher rating of **respiration** and **eeg_fp2** means the pilot is less likely to be distracted (higher $\\Rightarrow$ less distracted)\n",
    "* **seat = 0/1** has high positive weight $\\Rightarrow$ more likely to be distracted when seat = 1 (right seat).\n",
    "    * These corresponds to the pilot on the right seat.\n",
    "    * This illustrates why captain is always seated on the left.\n",
    "* **eeg_c4, eeg_p3, eeg_f8** have **positive** weights at around 0.002-0.0025. They are the most predictive factors of pilots' distractedness.\n",
    "    * c4 is related to the inhibition of brain alpha waves (lack of concentration).\n",
    "    * p3 node detects reactivity to external sensory stimulation.\n",
    "    * f8 is correlated with frequent judgement control.\n",
    "* On the other hand, **time** and **galvanic skin response** also have relatively high weights (the more time into experiment and the more skin response, the more distracted the pilots are.)"
   ]
  },
  {
   "cell_type": "code",
   "execution_count": 32,
   "metadata": {},
   "outputs": [
    {
     "name": "stdout",
     "output_type": "stream",
     "text": [
      "Optimization terminated successfully.\n",
      "         Current function value: 0.672661\n",
      "         Iterations 4\n"
     ]
    }
   ],
   "source": [
    "import statsmodels.api as sm\n",
    "\n",
    "# identify the independent variables \n",
    "ind_cols=weights.index.values\n",
    "logit = sm.Logit(y_test, X_test[ind_cols])\n",
    "result=logit.fit()"
   ]
  },
  {
   "cell_type": "code",
   "execution_count": 33,
   "metadata": {},
   "outputs": [
    {
     "name": "stdout",
     "output_type": "stream",
     "text": [
      "                           Logit Regression Results                           \n",
      "==============================================================================\n",
      "Dep. Variable:                      y   No. Observations:              1460227\n",
      "Model:                          Logit   Df Residuals:                  1460202\n",
      "Method:                           MLE   Df Model:                           24\n",
      "Date:                Sun, 09 Aug 2020   Pseudo R-squ.:                0.008388\n",
      "Time:                        19:20:54   Log-Likelihood:            -9.8224e+05\n",
      "converged:                       True   LL-Null:                   -9.9055e+05\n",
      "Covariance Type:            nonrobust   LLR p-value:                     0.000\n",
      "==============================================================================\n",
      "                 coef    std err          z      P>|z|      [0.025      0.975]\n",
      "------------------------------------------------------------------------------\n",
      "eeg_f7         0.0005   7.75e-05      6.394      0.000       0.000       0.001\n",
      "eeg_t4         0.0004      0.000      3.597      0.000       0.000       0.001\n",
      "eeg_t3         0.0002   9.21e-05      2.479      0.013    4.78e-05       0.000\n",
      "time           0.0005   1.62e-05     30.711      0.000       0.000       0.001\n",
      "eeg_f8         0.0004   8.45e-05      5.058      0.000       0.000       0.001\n",
      "eeg_poz        0.0007      0.000      3.388      0.001       0.000       0.001\n",
      "gsr            0.0004   3.49e-06    100.438      0.000       0.000       0.000\n",
      "eeg_p3         0.0010      0.000      3.135      0.002       0.000       0.002\n",
      "eeg_t5        -0.0003      0.000     -2.038      0.042      -0.001   -1.08e-05\n",
      "seat           0.2455      0.004     60.196      0.000       0.238       0.254\n",
      "eeg_f4       3.87e-05   4.85e-05      0.799      0.425   -5.63e-05       0.000\n",
      "eeg_p4         0.0005      0.000      1.821      0.069   -3.71e-05       0.001\n",
      "eeg_pz      8.871e-06   2.83e-05      0.314      0.754   -4.65e-05    6.42e-05\n",
      "eeg_c3        -0.0003      0.000     -1.490      0.136      -0.001    9.03e-05\n",
      "ecg         -1.32e-05   1.45e-07    -91.207      0.000   -1.35e-05   -1.29e-05\n",
      "eeg_o1      2.944e-05   7.86e-05      0.375      0.708      -0.000       0.000\n",
      "eeg_t6      4.153e-05      0.000      0.305      0.760      -0.000       0.000\n",
      "eeg_fz     -5.265e-05   3.55e-05     -1.482      0.138      -0.000     1.7e-05\n",
      "eeg_o2        -0.0004      0.000     -3.210      0.001      -0.001      -0.000\n",
      "eeg_cz      3.515e-05      0.000      0.296      0.767      -0.000       0.000\n",
      "eeg_c4        -0.0008      0.000     -4.446      0.000      -0.001      -0.000\n",
      "eeg_f3        -0.0003   4.76e-05     -5.680      0.000      -0.000      -0.000\n",
      "eeg_fp2       -0.0007   8.51e-05     -7.661      0.000      -0.001      -0.000\n",
      "r             -0.0011   7.47e-06   -142.230      0.000      -0.001      -0.001\n",
      "eeg_fp1       -0.0007   7.39e-05     -9.879      0.000      -0.001      -0.001\n",
      "==============================================================================\n"
     ]
    }
   ],
   "source": [
    "print(result.summary())"
   ]
  },
  {
   "cell_type": "code",
   "execution_count": 34,
   "metadata": {},
   "outputs": [
    {
     "data": {
      "text/html": [
       "<div>\n",
       "<style scoped>\n",
       "    .dataframe tbody tr th:only-of-type {\n",
       "        vertical-align: middle;\n",
       "    }\n",
       "\n",
       "    .dataframe tbody tr th {\n",
       "        vertical-align: top;\n",
       "    }\n",
       "\n",
       "    .dataframe thead th {\n",
       "        text-align: right;\n",
       "    }\n",
       "</style>\n",
       "<table border=\"1\" class=\"dataframe\">\n",
       "  <thead>\n",
       "    <tr style=\"text-align: right;\">\n",
       "      <th></th>\n",
       "      <th>0</th>\n",
       "    </tr>\n",
       "  </thead>\n",
       "  <tbody>\n",
       "    <tr>\n",
       "      <th>349359</th>\n",
       "      <td>-0.436471</td>\n",
       "    </tr>\n",
       "    <tr>\n",
       "      <th>3489722</th>\n",
       "      <td>-0.519902</td>\n",
       "    </tr>\n",
       "    <tr>\n",
       "      <th>3553088</th>\n",
       "      <td>-0.561243</td>\n",
       "    </tr>\n",
       "    <tr>\n",
       "      <th>1855907</th>\n",
       "      <td>-0.414355</td>\n",
       "    </tr>\n",
       "    <tr>\n",
       "      <th>1025731</th>\n",
       "      <td>-0.567981</td>\n",
       "    </tr>\n",
       "    <tr>\n",
       "      <th>...</th>\n",
       "      <td>...</td>\n",
       "    </tr>\n",
       "    <tr>\n",
       "      <th>383982</th>\n",
       "      <td>-0.026360</td>\n",
       "    </tr>\n",
       "    <tr>\n",
       "      <th>3652787</th>\n",
       "      <td>-0.177565</td>\n",
       "    </tr>\n",
       "    <tr>\n",
       "      <th>2150220</th>\n",
       "      <td>-0.111943</td>\n",
       "    </tr>\n",
       "    <tr>\n",
       "      <th>1023991</th>\n",
       "      <td>-0.532534</td>\n",
       "    </tr>\n",
       "    <tr>\n",
       "      <th>3108910</th>\n",
       "      <td>-0.143403</td>\n",
       "    </tr>\n",
       "  </tbody>\n",
       "</table>\n",
       "<p>1460227 rows × 1 columns</p>\n",
       "</div>"
      ],
      "text/plain": [
       "                0\n",
       "349359  -0.436471\n",
       "3489722 -0.519902\n",
       "3553088 -0.561243\n",
       "1855907 -0.414355\n",
       "1025731 -0.567981\n",
       "...           ...\n",
       "383982  -0.026360\n",
       "3652787 -0.177565\n",
       "2150220 -0.111943\n",
       "1023991 -0.532534\n",
       "3108910 -0.143403\n",
       "\n",
       "[1460227 rows x 1 columns]"
      ]
     },
     "execution_count": 34,
     "metadata": {},
     "output_type": "execute_result"
    }
   ],
   "source": [
    "dot = X_test.dot(model.coef_.T) + model.intercept_\n",
    "dot"
   ]
  },
  {
   "cell_type": "code",
   "execution_count": 35,
   "metadata": {},
   "outputs": [
    {
     "data": {
      "text/plain": [
       "[<matplotlib.lines.Line2D at 0x1a37b615388>]"
      ]
     },
     "execution_count": 35,
     "metadata": {},
     "output_type": "execute_result"
    },
    {
     "data": {
      "image/png": "[encoded data removed]",
      "text/plain": [
       "<Figure size 288x216 with 1 Axes>"
      ]
     },
     "metadata": {
      "needs_background": "light"
     },
     "output_type": "display_data"
    }
   ],
   "source": [
    "import matplotlib as mpl\n",
    "mpl.rcParams['agg.path.chunksize'] = 10000\n",
    "from sklearn import linear_model\n",
    "from scipy.special import expit\n",
    "\n",
    "# plot the result\n",
    "clf = linear_model.LogisticRegression()\n",
    "clf.fit(X_test, y_test)\n",
    "plt.figure(1, figsize=(4, 3))\n",
    "plt.clf()\n",
    "plt.scatter(dot, y_test, color='black')\n",
    "\n",
    "loss = expit(dot)\n",
    "plt.plot(dot, loss, color='red')\n"
   ]
  },
  {
   "cell_type": "code",
   "execution_count": 36,
   "metadata": {},
   "outputs": [
    {
     "name": "stdout",
     "output_type": "stream",
     "text": [
      "Automatically created module for IPython interactive environment\n"
     ]
    },
    {
     "data": {
      "text/plain": [
       "[<matplotlib.lines.Line2D at 0x1a37b610148>,\n",
       " <matplotlib.lines.Line2D at 0x1a37b689408>,\n",
       " <matplotlib.lines.Line2D at 0x1a37b6895c8>,\n",
       " <matplotlib.lines.Line2D at 0x1a37b689788>,\n",
       " <matplotlib.lines.Line2D at 0x1a37b689948>,\n",
       " <matplotlib.lines.Line2D at 0x1a37b689b48>,\n",
       " <matplotlib.lines.Line2D at 0x1a37b689d08>,\n",
       " <matplotlib.lines.Line2D at 0x1a37b689ec8>,\n",
       " <matplotlib.lines.Line2D at 0x1a37b68b0c8>,\n",
       " <matplotlib.lines.Line2D at 0x1a37b689b08>,\n",
       " <matplotlib.lines.Line2D at 0x1a37b68b408>,\n",
       " <matplotlib.lines.Line2D at 0x1a37b68b5c8>,\n",
       " <matplotlib.lines.Line2D at 0x1a37b68b788>,\n",
       " <matplotlib.lines.Line2D at 0x1a37b68b948>,\n",
       " <matplotlib.lines.Line2D at 0x1a37b68bb08>,\n",
       " <matplotlib.lines.Line2D at 0x1a37b68bcc8>,\n",
       " <matplotlib.lines.Line2D at 0x1a37b68be88>,\n",
       " <matplotlib.lines.Line2D at 0x1a37b68d088>,\n",
       " <matplotlib.lines.Line2D at 0x1a37b68d248>,\n",
       " <matplotlib.lines.Line2D at 0x1a37b68d488>,\n",
       " <matplotlib.lines.Line2D at 0x1a37b68d6c8>,\n",
       " <matplotlib.lines.Line2D at 0x1a37b68d908>,\n",
       " <matplotlib.lines.Line2D at 0x1a37b68db48>,\n",
       " <matplotlib.lines.Line2D at 0x1a37b68dd88>,\n",
       " <matplotlib.lines.Line2D at 0x1a37b68dfc8>]"
      ]
     },
     "execution_count": 36,
     "metadata": {},
     "output_type": "execute_result"
    },
    {
     "data": {
      "image/png": "[encoded data removed]",
      "text/plain": [
       "<Figure size 288x216 with 1 Axes>"
      ]
     },
     "metadata": {
      "needs_background": "light"
     },
     "output_type": "display_data"
    }
   ],
   "source": [
    "import matplotlib as mpl\n",
    "from sklearn import linear_model\n",
    "from scipy.special import expit\n",
    "\n",
    "print(__doc__)\n",
    "\n",
    "# Fit the classifier\n",
    "model = LogisticRegression()\n",
    "clf = model.fit(X_train, y_train)\n",
    "\n",
    "# and plot the result\n",
    "plt.figure(1, figsize=(4, 3))\n",
    "plt.clf()\n",
    "plt.scatter(dot, y_test, color='black', zorder=2)\n",
    "\n",
    "loss = expit(dot)\n",
    "plt.plot(X_test, loss, color='red')\n"
   ]
  },
  {
   "cell_type": "code",
   "execution_count": null,
   "metadata": {},
   "outputs": [],
   "source": []
  }
 ],
 "metadata": {
  "kernelspec": {
   "display_name": "Python 3",
   "language": "python",
   "name": "python3"
  },
  "language_info": {
   "codemirror_mode": {
    "name": "ipython",
    "version": 3
   },
   "file_extension": ".py",
   "mimetype": "text/x-python",
   "name": "python",
   "nbconvert_exporter": "python",
   "pygments_lexer": "ipython3",
   "version": "3.7.6"
  }
 },
 "nbformat": 4,
 "nbformat_minor": 4
}
